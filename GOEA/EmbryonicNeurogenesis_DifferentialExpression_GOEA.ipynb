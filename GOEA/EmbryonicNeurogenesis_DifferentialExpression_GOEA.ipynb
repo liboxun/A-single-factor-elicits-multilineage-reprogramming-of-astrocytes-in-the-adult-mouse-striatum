{
 "cells": [
  {
   "cell_type": "markdown",
   "metadata": {},
   "source": [
    "# Run a Gene Ontology Enrichment Analysis (GOEA)"
   ]
  },
  {
   "cell_type": "code",
   "execution_count": 1,
   "metadata": {},
   "outputs": [
    {
     "name": "stdout",
     "output_type": "stream",
     "text": [
      "/home2/s418610/.conda/envs/py37_res_diffxpy/bin/python\n",
      "['/home2/s418610/jupyter_notebooks/03.Invivo_neuronal_reprogramming/Manuscript/to_GitHub/GOEA', '', '/cm/shared/apps/cnvkit/0.9.5/lib/python3.6/site-packages', '/cm/shared/apps/python/3.6.4-anaconda/lib', '/cm/shared/apps/jupyterkernel-matlab/0.16.1/lib/python3.6/site-packages', '/cm/shared/apps/python/2.7.x-anaconda/lib', '/home2/s418610/.conda/envs/py37_res_diffxpy/lib/python37.zip', '/home2/s418610/.conda/envs/py37_res_diffxpy/lib/python3.7', '/home2/s418610/.conda/envs/py37_res_diffxpy/lib/python3.7/lib-dynload', '/home2/s418610/.local/lib/python3.7/site-packages', '/home2/s418610/.conda/envs/py37_res_diffxpy/lib/python3.7/site-packages', '/home2/s418610/.conda/envs/py37_res_diffxpy/lib/python3.7/site-packages/fa2-0.3.5-py3.7-linux-x86_64.egg', '/home2/s418610/.conda/envs/py37_res_diffxpy/lib/python3.7/site-packages/batchglm', '/home2/s418610/.conda/envs/py37_res_diffxpy/lib/python3.7/site-packages/diffxpy', '/home2/s418610/.conda/envs/py37_res_diffxpy/lib/python3.7/site-packages/IPython/extensions', '/home2/s418610/.ipython']\n",
      "3.7.3 (default, Mar 27 2019, 22:11:17) \n",
      "[GCC 7.3.0]\n"
     ]
    }
   ],
   "source": [
    "import sys\n",
    "import pickle\n",
    "print(sys.executable)\n",
    "print(sys.path)\n",
    "print(sys.version)"
   ]
  },
  {
   "cell_type": "code",
   "execution_count": 2,
   "metadata": {},
   "outputs": [],
   "source": [
    "from pathlib import Path\n",
    "import numpy as np\n",
    "import pandas as pd\n",
    "import statsmodels.api as sm\n",
    "\n",
    "import matplotlib as mpl\n",
    "import matplotlib.pyplot as plt\n",
    "import seaborn as sns\n",
    "# import scanpy as sc\n",
    "# import harmonypy as hm"
   ]
  },
  {
   "cell_type": "code",
   "execution_count": 3,
   "metadata": {
    "collapsed": true
   },
   "outputs": [
    {
     "name": "stdout",
     "output_type": "stream",
     "text": [
      "numpy 1.20.3\n",
      "pandas 0.25.2\n",
      "statsmodels 0.10.1\n",
      "matplotlib 3.1.3\n",
      "seaborn 0.9.0\n",
      "2021-08-11\n"
     ]
    }
   ],
   "source": [
    "plt.rcParams['figure.figsize']=(8,8) #rescale figures\n",
    "# sc.settings.verbosity = 3\n",
    "\n",
    "print('numpy', np.__version__)\n",
    "print('pandas', pd.__version__)\n",
    "# print('scipy', scipy.__version__)\n",
    "# print('sklearn', sklearn.__version__)\n",
    "print('statsmodels', sm.__version__)\n",
    "print('matplotlib', mpl.__version__)\n",
    "print('seaborn', sns.__version__)\n",
    "\n",
    "# sc.logging.print_versions()\n",
    "\n",
    "!date +%F"
   ]
  },
  {
   "cell_type": "code",
   "execution_count": 14,
   "metadata": {},
   "outputs": [],
   "source": [
    "import os\n",
    "\n",
    "# set a working directory for saving plots\n",
    "wdir = \"/project/GCRB/Hon_lab/s418610/Projects/03.Invivo_neuronal_reprogramming/99.Manuscript/Figures_revision/\"\n",
    "os.chdir( wdir )"
   ]
  },
  {
   "cell_type": "markdown",
   "metadata": {},
   "source": [
    "## 1. Download Ontologies and Associations"
   ]
  },
  {
   "cell_type": "markdown",
   "metadata": {},
   "source": [
    "### 1a. Download Ontologies, if necessary"
   ]
  },
  {
   "cell_type": "code",
   "execution_count": 4,
   "metadata": {},
   "outputs": [
    {
     "name": "stdout",
     "output_type": "stream",
     "text": [
      "  EXISTS: go-basic.obo\n"
     ]
    }
   ],
   "source": [
    "# Get http://geneontology.org/ontology/go-basic.obo\n",
    "from goatools.base import download_go_basic_obo\n",
    "obo_fname = download_go_basic_obo()"
   ]
  },
  {
   "cell_type": "markdown",
   "metadata": {},
   "source": [
    "### 1b. Download Associations, if necessary"
   ]
  },
  {
   "cell_type": "code",
   "execution_count": 5,
   "metadata": {},
   "outputs": [
    {
     "name": "stdout",
     "output_type": "stream",
     "text": [
      "  EXISTS: gene2go\n"
     ]
    }
   ],
   "source": [
    "# Get ftp://ftp.ncbi.nlm.nih.gov/gene/DATA/gene2go.gz\n",
    "from goatools.base import download_ncbi_associations\n",
    "fin_gene2go = download_ncbi_associations()"
   ]
  },
  {
   "cell_type": "markdown",
   "metadata": {},
   "source": [
    "## 2. Load Ontologies, Associations and Background gene set "
   ]
  },
  {
   "cell_type": "markdown",
   "metadata": {},
   "source": [
    "### 2a. Load Ontologies"
   ]
  },
  {
   "cell_type": "code",
   "execution_count": 6,
   "metadata": {},
   "outputs": [
    {
     "name": "stdout",
     "output_type": "stream",
     "text": [
      "go-basic.obo: fmt(1.2) rel(2020-09-10) 47,314 GO Terms\n"
     ]
    }
   ],
   "source": [
    "from goatools.obo_parser import GODag\n",
    "\n",
    "obodag = GODag(\"go-basic.obo\")"
   ]
  },
  {
   "cell_type": "markdown",
   "metadata": {},
   "source": [
    "### 2b. Load Associations"
   ]
  },
  {
   "cell_type": "code",
   "execution_count": 7,
   "metadata": {},
   "outputs": [],
   "source": [
    "from __future__ import print_function\n",
    "from goatools.anno.genetogo_reader import Gene2GoReader"
   ]
  },
  {
   "cell_type": "code",
   "execution_count": 8,
   "metadata": {},
   "outputs": [
    {
     "name": "stdout",
     "output_type": "stream",
     "text": [
      "HMS:0:00:05.127204 383,293 annotations READ: gene2go \n",
      "1 taxids stored: 10090\n",
      "BP 18,414 annotated mouse genes\n",
      "MF 17,115 annotated mouse genes\n",
      "CC 19,207 annotated mouse genes\n"
     ]
    }
   ],
   "source": [
    "# Read NCBI's gene2go. Store annotations in a list of namedtuples\n",
    "objanno = Gene2GoReader(fin_gene2go, taxids=[10090]) # Taxid 10090 is Mus musculus\n",
    "\n",
    "# Get namespace2association where:\n",
    "#    namespace is:\n",
    "#        BP: biological_process               \n",
    "#        MF: molecular_function\n",
    "#        CC: cellular_component\n",
    "#    assocation is a dict:\n",
    "#        key: NCBI GeneID\n",
    "#        value: A set of GO IDs associated with that gene\n",
    "ns2assoc = objanno.get_ns2assc()\n",
    "\n",
    "for nspc, id2gos in ns2assoc.items():\n",
    "    print(\"{NS} {N:,} annotated mouse genes\".format(NS=nspc, N=len(id2gos)))"
   ]
  },
  {
   "cell_type": "markdown",
   "metadata": {},
   "source": [
    "### 2c. Load Background gene set\n",
    "The background is all mouse protein-codinge genes"
   ]
  },
  {
   "cell_type": "code",
   "execution_count": 9,
   "metadata": {},
   "outputs": [],
   "source": [
    "from goatools.test_data.genes_NCBI_10090_ProteinCoding import GENEID2NT as GeneID2nt_mus\n",
    "# from goatools.test_data.genes_NCBI_10090_All import GENEID2NT as GeneID2nt_mus"
   ]
  },
  {
   "cell_type": "code",
   "execution_count": 10,
   "metadata": {},
   "outputs": [
    {
     "data": {
      "text/plain": [
       "28212"
      ]
     },
     "execution_count": 10,
     "metadata": {},
     "output_type": "execute_result"
    }
   ],
   "source": [
    "len(GeneID2nt_mus.keys())"
   ]
  },
  {
   "cell_type": "markdown",
   "metadata": {},
   "source": [
    "## 3. Initialize a GOEA object\n",
    "The GOEA object holds the Ontologies, Associations, and background.    "
   ]
  },
  {
   "cell_type": "code",
   "execution_count": 11,
   "metadata": {},
   "outputs": [
    {
     "name": "stdout",
     "output_type": "stream",
     "text": [
      "\n",
      "Load BP Gene Ontology Analysis ...\n",
      "fisher module not installed.  Falling back on scipy.stats.fisher_exact\n",
      " 62% 17,364 of 28,212 population items found in association\n",
      "\n",
      "Load CC Gene Ontology Analysis ...\n",
      "fisher module not installed.  Falling back on scipy.stats.fisher_exact\n",
      " 66% 18,550 of 28,212 population items found in association\n",
      "\n",
      "Load MF Gene Ontology Analysis ...\n",
      "fisher module not installed.  Falling back on scipy.stats.fisher_exact\n",
      " 59% 16,739 of 28,212 population items found in association\n"
     ]
    }
   ],
   "source": [
    "from goatools.goea.go_enrichment_ns import GOEnrichmentStudyNS\n",
    "\n",
    "goeaobj = GOEnrichmentStudyNS(\n",
    "        GeneID2nt_mus.keys(), # List of mouse protein-coding genes\n",
    "        ns2assoc, # geneid/GO associations\n",
    "        obodag, # Ontologies\n",
    "        propagate_counts = False,\n",
    "        alpha = 0.05, # default significance cut-off\n",
    "        methods = ['fdr_bh']) # defult multipletest correction method\n"
   ]
  },
  {
   "cell_type": "markdown",
   "metadata": {},
   "source": [
    "## 4. Read study genes\n",
    "* Gene symbols from DE analysis need to be converted to gene IDs first"
   ]
  },
  {
   "cell_type": "markdown",
   "metadata": {},
   "source": [
    "#### Making a reference dictionary to convert symbols of my genes to gene IDs"
   ]
  },
  {
   "cell_type": "code",
   "execution_count": 12,
   "metadata": {},
   "outputs": [],
   "source": [
    "GeneID2Symbol_dict = {}"
   ]
  },
  {
   "cell_type": "code",
   "execution_count": 13,
   "metadata": {},
   "outputs": [],
   "source": [
    "for GeneID in list(GeneID2nt_mus.keys()):\n",
    "    Symbols = []\n",
    "    Symbols.append(GeneID2nt_mus[GeneID].Symbol)\n",
    "    if not GeneID2nt_mus[GeneID].Aliases == '':\n",
    "        for alias in GeneID2nt_mus[GeneID].Aliases.split(','):\n",
    "            Symbols.append(alias.strip())\n",
    "    GeneID2Symbol_dict[GeneID] = Symbols"
   ]
  },
  {
   "cell_type": "markdown",
   "metadata": {},
   "source": [
    "##### Example search of a gene symbol"
   ]
  },
  {
   "cell_type": "code",
   "execution_count": 14,
   "metadata": {},
   "outputs": [],
   "source": [
    "gene_search = 'Ascl1'"
   ]
  },
  {
   "cell_type": "code",
   "execution_count": 15,
   "metadata": {},
   "outputs": [
    {
     "name": "stdout",
     "output_type": "stream",
     "text": [
      "17172\n"
     ]
    }
   ],
   "source": [
    "for GeneID, names in GeneID2Symbol_dict.items():\n",
    "    if gene_search in names:\n",
    "        print(GeneID)"
   ]
  },
  {
   "cell_type": "markdown",
   "metadata": {},
   "source": [
    "#### Loading my genes and convert symbols to IDs"
   ]
  },
  {
   "cell_type": "code",
   "execution_count": 16,
   "metadata": {},
   "outputs": [],
   "source": [
    "DE_dir = '/project/GCRB/Hon_lab/s418610/Projects/03.Invivo_neuronal_reprogramming/analysis/Cluster_with_10X_20k/data/10x_remapped/Revision/DE_analysis/'"
   ]
  },
  {
   "cell_type": "code",
   "execution_count": 17,
   "metadata": {},
   "outputs": [],
   "source": [
    "input_path = DE_dir + 'embryonic_neurogenesis_test_list_collection_100iter'\n",
    "with open(input_path, 'rb') as input_file:\n",
    " \n",
    "    test_list_collection = pickle.load(input_file)"
   ]
  },
  {
   "cell_type": "code",
   "execution_count": 18,
   "metadata": {},
   "outputs": [],
   "source": [
    "assert len(test_list_collection) == 100"
   ]
  },
  {
   "cell_type": "markdown",
   "metadata": {},
   "source": [
    "## 5. Run Gene Ontology Enrichment Analysis (GOEA)\n",
    "You may choose to keep all results or just the significant results. In this example, we choose to keep only the significant results."
   ]
  },
  {
   "cell_type": "code",
   "execution_count": 19,
   "metadata": {},
   "outputs": [],
   "source": [
    "goea_collection_experiment = []\n",
    "goea_collection_public = []"
   ]
  },
  {
   "cell_type": "code",
   "execution_count": null,
   "metadata": {},
   "outputs": [],
   "source": [
    "# test_list_all = test_list_collection[0]\n",
    "for iteration, test_list_all in enumerate(test_list_collection): \n",
    "    print('\\n\\n\\n\\n')\n",
    "    print('Current iteration: ', iteration, '\\n')\n",
    "\n",
    "    #### Examine genes enriched in experimental cells\n",
    "\n",
    "    #### Remove DEGs that are common to all clusters (see DE analysis jupyter notebook)\n",
    "\n",
    "    #### For each iteration of DE analysis, run GOEA for one time\n",
    "    \n",
    "    goea_experiment_up_all = []\n",
    "    for cluster, test_cluster in test_list_all:\n",
    "        experiment_up_genes = test_cluster.summary()[np.logical_and(test_cluster.summary()['qval'] < 1e-2, test_cluster.summary()['log2fc'] > 1)]\n",
    "        geneids_study = []\n",
    "        # Remove commonly differentially expressed genes (see DE analysis jupyter notebook)\n",
    "        for gene_search in experiment_up_genes['gene']:\n",
    "            if gene_search in ['Lars2', 'Gm42418', 'AY036118']: # The 7's and 6's\n",
    "                continue\n",
    "            for GeneID, names in GeneID2Symbol_dict.items():\n",
    "                if gene_search in names:\n",
    "        #            print(GeneID)\n",
    "                    geneids_study.append(GeneID)\n",
    "                    break\n",
    "\n",
    "        goea_results_all = goeaobj.run_study(geneids_study)\n",
    "        # goea_results_sig = [r for r in goea_results_all if r.p_fdr_bh < 0.05]\n",
    "        goea_experiment_up_all.append((cluster, experiment_up_genes, geneids_study, goea_results_all))\n",
    "\n",
    "\n",
    "    #### Examine genes enriched in experimental cells\n",
    "\n",
    "    #### Remove DEGs that are common to all clusters (see DE analysis jupyter notebook)\n",
    "\n",
    "    #### For each iteration of DE analysis, run GOEA for one time\n",
    "\n",
    "    goea_public_up_all = []\n",
    "    for cluster, test_cluster in test_list_all:\n",
    "        public_up_genes = test_cluster.summary()[np.logical_and(test_cluster.summary()['qval'] < 1e-2, test_cluster.summary()['log2fc'] < -1)]\n",
    "        geneids_study = []\n",
    "        # Remove commonly differentially expressed genes (see DE analysis jupyter notebook)\n",
    "        for gene_search in public_up_genes['gene']:\n",
    "            if gene_search in ['Rpl10', 'Rps27', 'Rps12', 'Rpl9', 'Rpl27']:\n",
    "                continue\n",
    "            for GeneID, names in GeneID2Symbol_dict.items():\n",
    "                if gene_search in names:\n",
    "        #            print(GeneID)\n",
    "                    geneids_study.append(GeneID)\n",
    "                    break\n",
    "\n",
    "        goea_results_all = goeaobj.run_study(geneids_study)\n",
    "        # goea_results_sig = [r for r in goea_results_all if r.p_fdr_bh < 0.05]\n",
    "    #    goea_public_up_all.append((cluster, public_up_genes, geneids_study, goea_results_sig))\n",
    "        goea_public_up_all.append((cluster, public_up_genes, geneids_study, goea_results_all)) # Store all test results, as GO terms of interest might not always be significant \n",
    "                                                                                                # in all cell types\n",
    "\n",
    "    # len(goea_public_up_all)\n",
    "    goea_collection_experiment.append((iteration, goea_experiment_up_all))\n",
    "    goea_collection_public.append((iteration, goea_public_up_all))"
   ]
  },
  {
   "cell_type": "code",
   "execution_count": null,
   "metadata": {},
   "outputs": [],
   "source": [
    "assert len(goea_collection_experiment) == 100"
   ]
  },
  {
   "cell_type": "code",
   "execution_count": null,
   "metadata": {},
   "outputs": [],
   "source": [
    "assert len(goea_collection_public) == 100"
   ]
  },
  {
   "cell_type": "code",
   "execution_count": 21,
   "metadata": {},
   "outputs": [
    {
     "data": {
      "text/plain": [
       "63"
      ]
     },
     "execution_count": 21,
     "metadata": {},
     "output_type": "execute_result"
    }
   ],
   "source": [
    "len(goea_collection_experiment)"
   ]
  },
  {
   "cell_type": "code",
   "execution_count": 22,
   "metadata": {},
   "outputs": [
    {
     "data": {
      "text/plain": [
       "63"
      ]
     },
     "execution_count": 22,
     "metadata": {},
     "output_type": "execute_result"
    }
   ],
   "source": [
    "len(goea_collection_public)"
   ]
  },
  {
   "cell_type": "markdown",
   "metadata": {},
   "source": [
    "## 6. Plot enriched GO terms of interest as a function of reprogramming progression"
   ]
  },
  {
   "cell_type": "markdown",
   "metadata": {},
   "source": [
    "#### Extracting results"
   ]
  },
  {
   "cell_type": "code",
   "execution_count": 24,
   "metadata": {},
   "outputs": [],
   "source": [
    "del test_list_collection"
   ]
  },
  {
   "cell_type": "code",
   "execution_count": 25,
   "metadata": {},
   "outputs": [],
   "source": [
    "goea_DF_collection_public = []\n",
    "for iteration, goea_public_up_all in goea_collection_public:\n",
    "\n",
    "    goea_DF_list_public = []\n",
    "    for cluster, _, _, goea_results_sig in goea_public_up_all:\n",
    "\n",
    "        goID = []\n",
    "        goName = []\n",
    "        goNamespace = []\n",
    "        goEnrichment = []\n",
    "        goAdjP = []\n",
    "        study_count = []\n",
    "        study_n = []\n",
    "        pop_count = []\n",
    "        pop_n = []\n",
    "        for goea_result in goea_results_sig:\n",
    "            goID.append(goea_result.goterm.id)\n",
    "            goName.append(goea_result.goterm.name)\n",
    "            goNamespace.append(goea_result.goterm.namespace)\n",
    "            goEnrichment.append(goea_result.enrichment)\n",
    "            goAdjP.append(goea_result.p_fdr_bh)\n",
    "            study_count.append(goea_result.study_count)\n",
    "            study_n.append(goea_result.study_n)\n",
    "            pop_count.append(goea_result.pop_count)\n",
    "            pop_n.append(goea_result.pop_n)\n",
    "\n",
    "        goea_summary = pd.DataFrame(data={'goID': goID,\n",
    "                                         'goName': goName, \n",
    "                                         'goNamespace': goNamespace, \n",
    "                                         'goEnrichment': goEnrichment, \n",
    "                                         'goAdjP': goAdjP, \n",
    "                                         'study_count': study_count, \n",
    "                                         'study_n': study_n, \n",
    "                                         'pop_count': pop_count, \n",
    "                                         'pop_n': pop_n})\n",
    "\n",
    "        # goea_summary.sort_values(by='goAdjP', ascending=True, inplace=True)\n",
    "\n",
    "        # goea_summary = goea_summary[goea_summary['goEnrichment']=='e']\n",
    "\n",
    "        goea_summary_MF = goea_summary[goea_summary['goNamespace']=='molecular_function']\n",
    "        goea_summary_BP = goea_summary[goea_summary['goNamespace']=='biological_process']\n",
    "        goea_summary_CC = goea_summary[goea_summary['goNamespace']=='cellular_component']\n",
    "\n",
    "        goea_DF_list_public.append((cluster, goea_summary_MF, goea_summary_BP, goea_summary_CC))\n",
    "        \n",
    "    goea_DF_collection_public.append((iteration, goea_DF_list_public))"
   ]
  },
  {
   "cell_type": "code",
   "execution_count": 26,
   "metadata": {},
   "outputs": [
    {
     "data": {
      "text/plain": [
       "63"
      ]
     },
     "execution_count": 26,
     "metadata": {},
     "output_type": "execute_result"
    }
   ],
   "source": [
    "len(goea_DF_collection_public)"
   ]
  },
  {
   "cell_type": "code",
   "execution_count": 27,
   "metadata": {},
   "outputs": [],
   "source": [
    "goea_DF_collection_experiment = []\n",
    "for iteration, goea_experiment_up_all in goea_collection_experiment:\n",
    "\n",
    "    goea_DF_list_experiment = []\n",
    "    for cluster, _, _, goea_results_sig in goea_experiment_up_all:\n",
    "\n",
    "        goID = []\n",
    "        goName = []\n",
    "        goNamespace = []\n",
    "        goEnrichment = []\n",
    "        goAdjP = []\n",
    "        study_count = []\n",
    "        study_n = []\n",
    "        pop_count = []\n",
    "        pop_n = []\n",
    "        for goea_result in goea_results_sig:\n",
    "            goID.append(goea_result.goterm.id)\n",
    "            goName.append(goea_result.goterm.name)\n",
    "            goNamespace.append(goea_result.goterm.namespace)\n",
    "            goEnrichment.append(goea_result.enrichment)\n",
    "            goAdjP.append(goea_result.p_fdr_bh)\n",
    "            study_count.append(goea_result.study_count)\n",
    "            study_n.append(goea_result.study_n)\n",
    "            pop_count.append(goea_result.pop_count)\n",
    "            pop_n.append(goea_result.pop_n)\n",
    "\n",
    "        goea_summary = pd.DataFrame(data={'goID': goID,\n",
    "                                         'goName': goName, \n",
    "                                         'goNamespace': goNamespace, \n",
    "                                         'goEnrichment': goEnrichment, \n",
    "                                         'goAdjP': goAdjP, \n",
    "                                         'study_count': study_count, \n",
    "                                         'study_n': study_n, \n",
    "                                         'pop_count': pop_count, \n",
    "                                         'pop_n': pop_n})\n",
    "\n",
    "        # goea_summary.sort_values(by='goAdjP', ascending=True, inplace=True)\n",
    "\n",
    "        # goea_summary = goea_summary[goea_summary['goEnrichment']=='e']\n",
    "\n",
    "        goea_summary_MF = goea_summary[goea_summary['goNamespace']=='molecular_function']\n",
    "        goea_summary_BP = goea_summary[goea_summary['goNamespace']=='biological_process']\n",
    "        goea_summary_CC = goea_summary[goea_summary['goNamespace']=='cellular_component']\n",
    "\n",
    "        goea_DF_list_experiment.append((cluster, goea_summary_MF, goea_summary_BP, goea_summary_CC))\n",
    "        \n",
    "    goea_DF_collection_experiment.append((iteration, goea_DF_list_experiment))"
   ]
  },
  {
   "cell_type": "code",
   "execution_count": 28,
   "metadata": {},
   "outputs": [
    {
     "data": {
      "text/plain": [
       "63"
      ]
     },
     "execution_count": 28,
     "metadata": {},
     "output_type": "execute_result"
    }
   ],
   "source": [
    "len(goea_DF_collection_experiment)"
   ]
  },
  {
   "cell_type": "markdown",
   "metadata": {},
   "source": [
    "##### Write and read data"
   ]
  },
  {
   "cell_type": "code",
   "execution_count": 4,
   "metadata": {},
   "outputs": [],
   "source": [
    "GOEA_dir = '/project/GCRB/Hon_lab/s418610/Projects/03.Invivo_neuronal_reprogramming/analysis/Cluster_with_10X_20k/data/10x_remapped/Revision/GOEA/'"
   ]
  },
  {
   "cell_type": "code",
   "execution_count": 30,
   "metadata": {},
   "outputs": [],
   "source": [
    "# output_path = GOEA_dir + 'embryonic_neurogenesis_goea_DF_collection_public_100iter'\n",
    "output_path = GOEA_dir + 'embryonic_neurogenesis_goea_DF_collection_public_63iter'\n",
    "\n",
    "with open(output_path, 'wb') as output_file:\n",
    " \n",
    "    pickle.dump(goea_DF_collection_public, output_file)"
   ]
  },
  {
   "cell_type": "code",
   "execution_count": 31,
   "metadata": {},
   "outputs": [],
   "source": [
    "# output_path = GOEA_dir + 'embryonic_neurogenesis_goea_DF_collection_experiment_100iter'\n",
    "output_path = GOEA_dir + 'embryonic_neurogenesis_goea_DF_collection_experiment_63iter'\n",
    "\n",
    "with open(output_path, 'wb') as output_file:\n",
    " \n",
    "    pickle.dump(goea_DF_collection_experiment, output_file)"
   ]
  },
  {
   "cell_type": "code",
   "execution_count": 6,
   "metadata": {},
   "outputs": [],
   "source": [
    "input_path = GOEA_dir + 'embryonic_neurogenesis_goea_DF_collection_public_100iter'\n",
    "with open(input_path, 'rb') as input_file:\n",
    " \n",
    "    goea_DF_collection_public = pickle.load(input_file)"
   ]
  },
  {
   "cell_type": "code",
   "execution_count": 7,
   "metadata": {},
   "outputs": [],
   "source": [
    "input_path = GOEA_dir + 'embryonic_neurogenesis_goea_DF_collection_experiment_100iter'\n",
    "with open(input_path, 'rb') as input_file:\n",
    " \n",
    "    goea_DF_collection_experiment = pickle.load(input_file)"
   ]
  },
  {
   "cell_type": "code",
   "execution_count": 8,
   "metadata": {},
   "outputs": [],
   "source": [
    "assert len(goea_DF_collection_public)==100"
   ]
  },
  {
   "cell_type": "code",
   "execution_count": 9,
   "metadata": {},
   "outputs": [],
   "source": [
    "assert len(goea_DF_collection_experiment)==100"
   ]
  },
  {
   "cell_type": "markdown",
   "metadata": {},
   "source": [
    "#### Plot GO terms of interest"
   ]
  },
  {
   "cell_type": "code",
   "execution_count": 10,
   "metadata": {},
   "outputs": [],
   "source": [
    "GOterm_list = ['cell cycle', 'defense response to virus']"
   ]
  },
  {
   "cell_type": "code",
   "execution_count": 41,
   "metadata": {},
   "outputs": [],
   "source": [
    "GOterm_list = ['defense response to virus', 'immune system process', 'cellular response to interferon-beta']"
   ]
  },
  {
   "cell_type": "code",
   "execution_count": 44,
   "metadata": {},
   "outputs": [],
   "source": [
    "GOterm_list = ['oxidation-reduction process', \n",
    "              'tricarboxylic acid cycle', 'oxidative phosphorylation', 'glycolytic process', \n",
    "              'ATP synthesis coupled proton transport', 'electron transport chain']"
   ]
  },
  {
   "cell_type": "code",
   "execution_count": 46,
   "metadata": {},
   "outputs": [],
   "source": [
    "GOterm_list = ['lipid metabolic process', 'cellular lipid catabolic process', 'cell adhesion']"
   ]
  },
  {
   "cell_type": "code",
   "execution_count": 48,
   "metadata": {},
   "outputs": [],
   "source": [
    "GOterm_list = ['cell cycle', 'ribosome biogenesis', 'translation', \n",
    "               'mitochondrial translation', 'mRNA processing', \n",
    "              'rRNA processing']"
   ]
  },
  {
   "cell_type": "code",
   "execution_count": 15,
   "metadata": {},
   "outputs": [
    {
     "data": {
      "image/png": "[encoded data removed]",
      "text/plain": [
       "<Figure size 576x288 with 1 Axes>"
      ]
     },
     "metadata": {
      "needs_background": "light"
     },
     "output_type": "display_data"
    },
    {
     "data": {
      "image/png": "[encoded data removed]",
      "text/plain": [
       "<Figure size 576x288 with 1 Axes>"
      ]
     },
     "metadata": {
      "needs_background": "light"
     },
     "output_type": "display_data"
    }
   ],
   "source": [
    "# Figure 3E, mid and bottom\n",
    "for GOterm_oi in GOterm_list: \n",
    "    iteration, goea_DF_list_experiment = goea_DF_collection_experiment[0]\n",
    "    data_experimental_up = {}\n",
    "    for cluster, _, _, _ in goea_DF_list_experiment:\n",
    "        data_experimental_up[cluster] = []\n",
    "\n",
    "    for iteration, goea_DF_list_experiment in goea_DF_collection_experiment:\n",
    "        for cluster, goea_summary_MF, goea_summary_BP, goea_summary_CC in goea_DF_list_experiment:\n",
    "            data_experimental_up[cluster].append(goea_summary_BP.iloc[np.where(goea_summary_BP['goName']==GOterm_oi)[0][0],:]['goAdjP'])\n",
    "\n",
    "    df_experimental_up = pd.DataFrame(data_experimental_up)\n",
    "\n",
    "    df_experimental_up = df_experimental_up.T\n",
    "\n",
    "    df_experimental_up = -np.log10(df_experimental_up)\n",
    "\n",
    "    df_experimental_up['mean'] = df_experimental_up.mean(axis=1)\n",
    "\n",
    "    df_experimental_up['std'] = df_experimental_up.std(axis=1)\n",
    "\n",
    "\n",
    "    iteration, goea_DF_list_public = goea_DF_collection_public[0]\n",
    "    data_public_up = {}\n",
    "    for cluster, _, _, _ in goea_DF_list_public:\n",
    "        data_public_up[cluster] = []\n",
    "\n",
    "    for iteration, goea_DF_list_public in goea_DF_collection_public:\n",
    "        for cluster, goea_summary_MF, goea_summary_BP, goea_summary_CC in goea_DF_list_public:\n",
    "            data_public_up[cluster].append(goea_summary_BP.iloc[np.where(goea_summary_BP['goName']==GOterm_oi)[0][0],:]['goAdjP'])\n",
    "\n",
    "    df_public_up = pd.DataFrame(data_public_up)\n",
    "\n",
    "    df_public_up = df_public_up.T\n",
    "\n",
    "    df_public_up = -np.log10(df_public_up)\n",
    "\n",
    "    df_public_up['mean'] = df_public_up.mean(axis=1)\n",
    "\n",
    "    df_public_up['std'] = df_public_up.std(axis=1)\n",
    "\n",
    "\n",
    "#    row_order = ['Resident_astrocytes', '1-Reprogrammed_astrocytes/qNSC-like', '8-Early-aNSCs', \n",
    "#                '3-Mid-aNSCs', '5-Late-aNSCs/NPC-like', '6-NPC/early-neurobalsts', \n",
    "#                '0-Mid-neuroblasts', '7-Late-neuroblats/maturing_neurons']\n",
    "    \n",
    "    row_order = ['Astrocytes', 'Lenti-astrocytes-1', 'Lenti-astrocytes-2', \n",
    "            'NPCs-1', 'NPCs-2', 'NPCs-3', 'Neuroblasts-3', 'Neuroblasts-2', \n",
    "            'Neuroblasts-1', 'Neuroblasts-4']\n",
    "\n",
    "    fig, ax = plt.subplots(figsize=(8,4))\n",
    "    x = np.arange(len(row_order))\n",
    "\n",
    "    y_experimental_up = df_experimental_up.loc[row_order]['mean']\n",
    "    error_experimental_up = df_experimental_up.loc[row_order]['std']\n",
    "\n",
    "    y_public_up = df_public_up.loc[row_order]['mean']\n",
    "    error_public_up = df_public_up.loc[row_order]['std']\n",
    "\n",
    "    plt.errorbar(x, y_experimental_up, error_experimental_up/2, capsize=5)\n",
    "    plt.errorbar(x, y_public_up, error_public_up/2, capsize=5)\n",
    "\n",
    "    plt.xticks(x, row_order, rotation=90)\n",
    "    plt.legend(['Experimental up', 'Public up'], loc='best')\n",
    "\n",
    "    plt.title('Enrichment of GO term: '+GOterm_oi)\n",
    "\n",
    "    plt.savefig('./figures/linechart_'+GOterm_oi+'_DEGs_100iter_MT_ReprNeurE18-5.pdf')\n",
    "    plt.show()"
   ]
  },
  {
   "cell_type": "code",
   "execution_count": null,
   "metadata": {},
   "outputs": [],
   "source": []
  }
 ],
 "metadata": {
  "kernelspec": {
   "display_name": "py37_res_diffxpy",
   "language": "python",
   "name": "py37_res_diffxpy"
  },
  "language_info": {
   "codemirror_mode": {
    "name": "ipython",
    "version": 3
   },
   "file_extension": ".py",
   "mimetype": "text/x-python",
   "name": "python",
   "nbconvert_exporter": "python",
   "pygments_lexer": "ipython3",
   "version": "3.7.3"
  }
 },
 "nbformat": 4,
 "nbformat_minor": 2
}
