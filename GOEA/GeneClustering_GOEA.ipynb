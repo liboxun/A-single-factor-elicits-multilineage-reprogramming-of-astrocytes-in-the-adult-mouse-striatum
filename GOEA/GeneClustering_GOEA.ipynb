{
 "cells": [
  {
   "cell_type": "markdown",
   "metadata": {},
   "source": [
    "# Run a Gene Ontology Enrichment Analysis (GOEA)\n",
    "* Use gene clusters (chi-square p value filter; louvain clustering) resulted from .ipynb #9. \n",
    "* Calculate enriched GO terms and plot barplots"
   ]
  },
  {
   "cell_type": "code",
   "execution_count": 1,
   "metadata": {},
   "outputs": [
    {
     "name": "stdout",
     "output_type": "stream",
     "text": [
      "/home2/s418610/.conda/envs/py37_res_diffxpy/bin/python\n",
      "['/home2/s418610/jupyter_notebooks/Invivo_neuronal_reprogramming/Cluster_with_10x/Remapped_10X_data/Harmony.4', '', '/cm/shared/apps/cnvkit/0.9.5/lib/python3.6/site-packages', '/cm/shared/apps/python/3.6.4-anaconda/lib', '/cm/shared/apps/jupyterkernel-matlab/0.16.1/lib/python3.6/site-packages', '/cm/shared/apps/python/2.7.x-anaconda/lib', '/home2/s418610/.conda/envs/py37_res_diffxpy/lib/python37.zip', '/home2/s418610/.conda/envs/py37_res_diffxpy/lib/python3.7', '/home2/s418610/.conda/envs/py37_res_diffxpy/lib/python3.7/lib-dynload', '/home2/s418610/.local/lib/python3.7/site-packages', '/home2/s418610/.conda/envs/py37_res_diffxpy/lib/python3.7/site-packages', '/home2/s418610/.conda/envs/py37_res_diffxpy/lib/python3.7/site-packages/fa2-0.3.5-py3.7-linux-x86_64.egg', '/home2/s418610/.conda/envs/py37_res_diffxpy/lib/python3.7/site-packages/batchglm', '/home2/s418610/.conda/envs/py37_res_diffxpy/lib/python3.7/site-packages/diffxpy', '/home2/s418610/.conda/envs/py37_res_diffxpy/lib/python3.7/site-packages/IPython/extensions', '/home2/s418610/.ipython']\n",
      "3.7.3 (default, Mar 27 2019, 22:11:17) \n",
      "[GCC 7.3.0]\n"
     ]
    }
   ],
   "source": [
    "import sys\n",
    "import pickle\n",
    "print(sys.executable)\n",
    "print(sys.path)\n",
    "print(sys.version)"
   ]
  },
  {
   "cell_type": "code",
   "execution_count": 2,
   "metadata": {},
   "outputs": [],
   "source": [
    "from pathlib import Path\n",
    "import numpy as np\n",
    "import pandas as pd\n",
    "import statsmodels.api as sm\n",
    "import scanpy as sc\n",
    "import anndata\n",
    "\n",
    "import matplotlib as mpl\n",
    "import matplotlib.pyplot as plt\n",
    "import seaborn as sns\n",
    "# import scanpy as sc\n",
    "# import harmonypy as hm"
   ]
  },
  {
   "cell_type": "code",
   "execution_count": 3,
   "metadata": {
    "collapsed": true
   },
   "outputs": [
    {
     "name": "stdout",
     "output_type": "stream",
     "text": [
      "numpy 1.17.2\n",
      "pandas 0.25.2\n",
      "statsmodels 0.10.1\n",
      "matplotlib 3.1.3\n",
      "seaborn 0.9.0\n",
      "scanpy==1.4.5.post1 anndata==0.6.22.post1 umap==0.3.10 numpy==1.17.2 scipy==1.4.1 pandas==0.25.2 scikit-learn==0.21.3 statsmodels==0.10.1 python-igraph==0.7.1 louvain==0.6.1\n",
      "2020-07-24\n"
     ]
    }
   ],
   "source": [
    "plt.rcParams['figure.figsize']=(8,8) #rescale figures\n",
    "# sc.settings.verbosity = 3\n",
    "\n",
    "print('numpy', np.__version__)\n",
    "print('pandas', pd.__version__)\n",
    "# print('scipy', scipy.__version__)\n",
    "# print('sklearn', sklearn.__version__)\n",
    "print('statsmodels', sm.__version__)\n",
    "print('matplotlib', mpl.__version__)\n",
    "print('seaborn', sns.__version__)\n",
    "\n",
    "sc.logging.print_versions()\n",
    "\n",
    "!date +%F"
   ]
  },
  {
   "cell_type": "markdown",
   "metadata": {},
   "source": [
    "## 1. Download Ontologies and Associations"
   ]
  },
  {
   "cell_type": "markdown",
   "metadata": {},
   "source": [
    "### 1a. Download Ontologies, if necessary"
   ]
  },
  {
   "cell_type": "code",
   "execution_count": 4,
   "metadata": {},
   "outputs": [
    {
     "name": "stdout",
     "output_type": "stream",
     "text": [
      "  EXISTS: go-basic.obo\n"
     ]
    }
   ],
   "source": [
    "# Get http://geneontology.org/ontology/go-basic.obo\n",
    "from goatools.base import download_go_basic_obo\n",
    "obo_fname = download_go_basic_obo()"
   ]
  },
  {
   "cell_type": "markdown",
   "metadata": {},
   "source": [
    "### 1b. Download Associations, if necessary"
   ]
  },
  {
   "cell_type": "code",
   "execution_count": 5,
   "metadata": {},
   "outputs": [
    {
     "name": "stdout",
     "output_type": "stream",
     "text": [
      "  EXISTS: gene2go\n"
     ]
    }
   ],
   "source": [
    "# Get ftp://ftp.ncbi.nlm.nih.gov/gene/DATA/gene2go.gz\n",
    "from goatools.base import download_ncbi_associations\n",
    "fin_gene2go = download_ncbi_associations()"
   ]
  },
  {
   "cell_type": "markdown",
   "metadata": {},
   "source": [
    "## 2. Load Ontologies, Associations and Background gene set "
   ]
  },
  {
   "cell_type": "markdown",
   "metadata": {},
   "source": [
    "### 2a. Load Ontologies"
   ]
  },
  {
   "cell_type": "code",
   "execution_count": 6,
   "metadata": {},
   "outputs": [
    {
     "name": "stdout",
     "output_type": "stream",
     "text": [
      "go-basic.obo: fmt(1.2) rel(2020-05-02) 47,240 GO Terms\n"
     ]
    }
   ],
   "source": [
    "from goatools.obo_parser import GODag\n",
    "\n",
    "obodag = GODag(\"go-basic.obo\")"
   ]
  },
  {
   "cell_type": "markdown",
   "metadata": {},
   "source": [
    "### 2b. Load Associations"
   ]
  },
  {
   "cell_type": "code",
   "execution_count": 7,
   "metadata": {},
   "outputs": [],
   "source": [
    "from __future__ import print_function\n",
    "from goatools.anno.genetogo_reader import Gene2GoReader"
   ]
  },
  {
   "cell_type": "code",
   "execution_count": 8,
   "metadata": {},
   "outputs": [
    {
     "name": "stdout",
     "output_type": "stream",
     "text": [
      "HMS:0:00:03.987523 380,584 annotations READ: gene2go \n",
      "1 taxids stored: 10090\n",
      "CC 19,048 annotated mouse genes\n",
      "MF 16,917 annotated mouse genes\n",
      "BP 18,229 annotated mouse genes\n"
     ]
    }
   ],
   "source": [
    "# Read NCBI's gene2go. Store annotations in a list of namedtuples\n",
    "objanno = Gene2GoReader(fin_gene2go, taxids=[10090]) # Taxid 10090 is Mus musculus\n",
    "\n",
    "# Get namespace2association where:\n",
    "#    namespace is:\n",
    "#        BP: biological_process               \n",
    "#        MF: molecular_function\n",
    "#        CC: cellular_component\n",
    "#    assocation is a dict:\n",
    "#        key: NCBI GeneID\n",
    "#        value: A set of GO IDs associated with that gene\n",
    "ns2assoc = objanno.get_ns2assc()\n",
    "\n",
    "for nspc, id2gos in ns2assoc.items():\n",
    "    print(\"{NS} {N:,} annotated mouse genes\".format(NS=nspc, N=len(id2gos)))"
   ]
  },
  {
   "cell_type": "markdown",
   "metadata": {},
   "source": [
    "### 2c. Load Background gene set\n",
    "In this example, the background is all mouse protein-codinge genes"
   ]
  },
  {
   "cell_type": "code",
   "execution_count": 9,
   "metadata": {},
   "outputs": [],
   "source": [
    "from goatools.test_data.genes_NCBI_10090_ProteinCoding import GENEID2NT as GeneID2nt_mus\n",
    "# from goatools.test_data.genes_NCBI_10090_All import GENEID2NT as GeneID2nt_mus"
   ]
  },
  {
   "cell_type": "code",
   "execution_count": 10,
   "metadata": {},
   "outputs": [
    {
     "data": {
      "text/plain": [
       "28212"
      ]
     },
     "execution_count": 10,
     "metadata": {},
     "output_type": "execute_result"
    }
   ],
   "source": [
    "len(GeneID2nt_mus.keys())"
   ]
  },
  {
   "cell_type": "markdown",
   "metadata": {},
   "source": [
    "## 3. Initialize a GOEA object\n",
    "The GOEA object holds the Ontologies, Associations, and background.   "
   ]
  },
  {
   "cell_type": "code",
   "execution_count": 11,
   "metadata": {},
   "outputs": [
    {
     "name": "stdout",
     "output_type": "stream",
     "text": [
      "\n",
      "Load BP Gene Ontology Analysis ...\n",
      "fisher module not installed.  Falling back on scipy.stats.fisher_exact\n",
      " 61% 17,126 of 28,212 population items found in association\n",
      "\n",
      "Load CC Gene Ontology Analysis ...\n",
      "fisher module not installed.  Falling back on scipy.stats.fisher_exact\n",
      " 65% 18,355 of 28,212 population items found in association\n",
      "\n",
      "Load MF Gene Ontology Analysis ...\n",
      "fisher module not installed.  Falling back on scipy.stats.fisher_exact\n",
      " 59% 16,508 of 28,212 population items found in association\n"
     ]
    }
   ],
   "source": [
    "from goatools.goea.go_enrichment_ns import GOEnrichmentStudyNS\n",
    "\n",
    "goeaobj = GOEnrichmentStudyNS(\n",
    "        GeneID2nt_mus.keys(), # List of mouse protein-coding genes\n",
    "        ns2assoc, # geneid/GO associations\n",
    "        obodag, # Ontologies\n",
    "        propagate_counts = False,\n",
    "        alpha = 0.05, # default significance cut-off\n",
    "        methods = ['fdr_bh']) # defult multipletest correction method\n"
   ]
  },
  {
   "cell_type": "markdown",
   "metadata": {},
   "source": [
    "## 4. Read study genes\n",
    "* Gene symbols from DE analysis need to be converted to gene IDs first"
   ]
  },
  {
   "cell_type": "markdown",
   "metadata": {},
   "source": [
    "#### Making a reference dictionary to convert symbols of my genes to gene IDs"
   ]
  },
  {
   "cell_type": "code",
   "execution_count": 12,
   "metadata": {},
   "outputs": [],
   "source": [
    "GeneID2Symbol_dict = {}"
   ]
  },
  {
   "cell_type": "code",
   "execution_count": 13,
   "metadata": {},
   "outputs": [],
   "source": [
    "for GeneID in list(GeneID2nt_mus.keys()):\n",
    "    Symbols = []\n",
    "    Symbols.append(GeneID2nt_mus[GeneID].Symbol)\n",
    "    if not GeneID2nt_mus[GeneID].Aliases == '':\n",
    "        for alias in GeneID2nt_mus[GeneID].Aliases.split(','):\n",
    "            Symbols.append(alias.strip())\n",
    "    GeneID2Symbol_dict[GeneID] = Symbols"
   ]
  },
  {
   "cell_type": "markdown",
   "metadata": {},
   "source": [
    "##### Example search of a gene symbol"
   ]
  },
  {
   "cell_type": "code",
   "execution_count": 14,
   "metadata": {},
   "outputs": [],
   "source": [
    "gene_search = 'Ascl1'"
   ]
  },
  {
   "cell_type": "code",
   "execution_count": 15,
   "metadata": {},
   "outputs": [
    {
     "name": "stdout",
     "output_type": "stream",
     "text": [
      "17172\n"
     ]
    }
   ],
   "source": [
    "for GeneID, names in GeneID2Symbol_dict.items():\n",
    "    if gene_search in names:\n",
    "        print(GeneID)"
   ]
  },
  {
   "cell_type": "markdown",
   "metadata": {},
   "source": [
    "#### Loading my genes and convert symbols to IDs"
   ]
  },
  {
   "cell_type": "code",
   "execution_count": 16,
   "metadata": {},
   "outputs": [],
   "source": [
    "gene_data_dir = '/project/GCRB/Hon_lab/s418610/Projects/03.Invivo_neuronal_reprogramming/analysis/Cluster_with_10X_20k/data/10x_remapped/PipelineOrganized_v1/Gene_clusters/'"
   ]
  },
  {
   "cell_type": "code",
   "execution_count": 17,
   "metadata": {},
   "outputs": [],
   "source": [
    "input_path = gene_data_dir + 'adata_genes_Manuscript_v2'\n",
    "with open(input_path, 'rb') as input_file:\n",
    " \n",
    "    adata_genes = pickle.load(input_file)"
   ]
  },
  {
   "cell_type": "code",
   "execution_count": 18,
   "metadata": {},
   "outputs": [
    {
     "data": {
      "text/plain": [
       "AnnData object with n_obs × n_vars = 2469 × 4601 \n",
       "    obs: 'gene_ids', 'feature_types', 'genome', 'n_cells', 'p_val_adj', 'n_counts', 'n_cells_experimental', 'louvain', 'log10_n_cells_experimental'\n",
       "    var: 'library_name', 'batch', 'lenti_count', 'lenti_log1p_count', 'tdT_count', 'tdT_log1p_count', 'n_counts', 'log_counts', 'n_genes', 'mt_count', 'mt_frac', 'n_counts_all', 'louvain', 'dpt_pseudotime', 'rank_pseudotime', 'Rpl32', 'Egfr'\n",
       "    uns: 'pca', 'neighbors', 'louvain', 'paga', 'louvain_sizes', 'louvain_colors', 'umap'\n",
       "    obsm: 'X_pca', 'X_umap'\n",
       "    varm: 'PCs'"
      ]
     },
     "execution_count": 18,
     "metadata": {},
     "output_type": "execute_result"
    }
   ],
   "source": [
    "adata_genes"
   ]
  },
  {
   "cell_type": "markdown",
   "metadata": {},
   "source": [
    "## 5. Run Gene Ontology Enrichment Analysis (GOEA)\n",
    "You may choose to keep all results or just the significant results. Here, we choose to keep only the significant results."
   ]
  },
  {
   "cell_type": "code",
   "execution_count": 19,
   "metadata": {},
   "outputs": [
    {
     "data": {
      "text/plain": [
       "0     582\n",
       "1     313\n",
       "2     309\n",
       "3     302\n",
       "4     240\n",
       "5     218\n",
       "6     135\n",
       "7     131\n",
       "8      91\n",
       "9      76\n",
       "10     56\n",
       "11     16\n",
       "Name: louvain, dtype: int64"
      ]
     },
     "execution_count": 19,
     "metadata": {},
     "output_type": "execute_result"
    }
   ],
   "source": [
    "adata_genes.obs['louvain'].value_counts()"
   ]
  },
  {
   "cell_type": "markdown",
   "metadata": {},
   "source": [
    "#### Loop over all clusters"
   ]
  },
  {
   "cell_type": "code",
   "execution_count": 20,
   "metadata": {},
   "outputs": [
    {
     "name": "stdout",
     "output_type": "stream",
     "text": [
      "\n",
      "Run BP Gene Ontology Analysis: current study set of 565 IDs ...\n",
      " 93%    527 of    565 study items found in association\n",
      "100%    565 of    565 study items found in population(28212)\n",
      "Calculating 12,398 uncorrected p-values using fisher_scipy_stats\n",
      "  12,398 GO terms are associated with 17,126 of 28,212 population items\n",
      "   3,315 GO terms are associated with    527 of    565 study items\n",
      "  METHOD fdr_bh:\n",
      "     139 GO terms found significant (< 0.05=alpha) (138 enriched +   1 purified): statsmodels fdr_bh\n",
      "     416 study items associated with significant GO IDs (enriched)\n",
      "       1 study items associated with significant GO IDs (purified)\n",
      "\n",
      "Run CC Gene Ontology Analysis: current study set of 565 IDs ...\n",
      " 96%    542 of    565 study items found in association\n",
      "100%    565 of    565 study items found in population(28212)\n",
      "Calculating 1,750 uncorrected p-values using fisher_scipy_stats\n",
      "   1,750 GO terms are associated with 18,355 of 28,212 population items\n",
      "     477 GO terms are associated with    542 of    565 study items\n",
      "  METHOD fdr_bh:\n",
      "      96 GO terms found significant (< 0.05=alpha) ( 96 enriched +   0 purified): statsmodels fdr_bh\n",
      "     538 study items associated with significant GO IDs (enriched)\n",
      "       0 study items associated with significant GO IDs (purified)\n",
      "\n",
      "Run MF Gene Ontology Analysis: current study set of 565 IDs ...\n",
      " 91%    514 of    565 study items found in association\n",
      "100%    565 of    565 study items found in population(28212)\n",
      "Calculating 4,180 uncorrected p-values using fisher_scipy_stats\n",
      "   4,180 GO terms are associated with 16,508 of 28,212 population items\n",
      "     923 GO terms are associated with    514 of    565 study items\n",
      "  METHOD fdr_bh:\n",
      "      53 GO terms found significant (< 0.05=alpha) ( 52 enriched +   1 purified): statsmodels fdr_bh\n",
      "     435 study items associated with significant GO IDs (enriched)\n",
      "       0 study items associated with significant GO IDs (purified)\n",
      "\n",
      "Run BP Gene Ontology Analysis: current study set of 307 IDs ...\n",
      " 94%    287 of    306 study items found in association\n",
      "100%    306 of    307 study items found in population(28212)\n",
      "Calculating 12,398 uncorrected p-values using fisher_scipy_stats\n",
      "  12,398 GO terms are associated with 17,126 of 28,212 population items\n",
      "   1,401 GO terms are associated with    287 of    306 study items\n",
      "  METHOD fdr_bh:\n",
      "      53 GO terms found significant (< 0.05=alpha) ( 51 enriched +   2 purified): statsmodels fdr_bh\n",
      "     210 study items associated with significant GO IDs (enriched)\n",
      "       0 study items associated with significant GO IDs (purified)\n",
      "\n",
      "Run CC Gene Ontology Analysis: current study set of 307 IDs ...\n",
      " 97%    296 of    306 study items found in association\n",
      "100%    306 of    307 study items found in population(28212)\n",
      "Calculating 1,750 uncorrected p-values using fisher_scipy_stats\n",
      "   1,750 GO terms are associated with 18,355 of 28,212 population items\n",
      "     387 GO terms are associated with    296 of    306 study items\n",
      "  METHOD fdr_bh:\n",
      "      78 GO terms found significant (< 0.05=alpha) ( 75 enriched +   3 purified): statsmodels fdr_bh\n",
      "     279 study items associated with significant GO IDs (enriched)\n",
      "      40 study items associated with significant GO IDs (purified)\n",
      "\n",
      "Run MF Gene Ontology Analysis: current study set of 307 IDs ...\n",
      " 89%    272 of    306 study items found in association\n",
      "100%    306 of    307 study items found in population(28212)\n",
      "Calculating 4,180 uncorrected p-values using fisher_scipy_stats\n",
      "   4,180 GO terms are associated with 16,508 of 28,212 population items\n",
      "     430 GO terms are associated with    272 of    306 study items\n",
      "  METHOD fdr_bh:\n",
      "      26 GO terms found significant (< 0.05=alpha) ( 25 enriched +   1 purified): statsmodels fdr_bh\n",
      "     224 study items associated with significant GO IDs (enriched)\n",
      "       0 study items associated with significant GO IDs (purified)\n",
      "\n",
      "Run BP Gene Ontology Analysis: current study set of 299 IDs ...\n",
      " 93%    278 of    299 study items found in association\n",
      "100%    299 of    299 study items found in population(28212)\n",
      "Calculating 12,398 uncorrected p-values using fisher_scipy_stats\n",
      "  12,398 GO terms are associated with 17,126 of 28,212 population items\n",
      "   1,325 GO terms are associated with    278 of    299 study items\n",
      "  METHOD fdr_bh:\n",
      "      41 GO terms found significant (< 0.05=alpha) ( 39 enriched +   2 purified): statsmodels fdr_bh\n",
      "     154 study items associated with significant GO IDs (enriched)\n",
      "       3 study items associated with significant GO IDs (purified)\n",
      "\n",
      "Run CC Gene Ontology Analysis: current study set of 299 IDs ...\n",
      " 97%    289 of    299 study items found in association\n",
      "100%    299 of    299 study items found in population(28212)\n",
      "Calculating 1,750 uncorrected p-values using fisher_scipy_stats\n",
      "   1,750 GO terms are associated with 18,355 of 28,212 population items\n",
      "     392 GO terms are associated with    289 of    299 study items\n",
      "  METHOD fdr_bh:\n",
      "      83 GO terms found significant (< 0.05=alpha) ( 81 enriched +   2 purified): statsmodels fdr_bh\n",
      "     277 study items associated with significant GO IDs (enriched)\n",
      "      19 study items associated with significant GO IDs (purified)\n",
      "\n",
      "Run MF Gene Ontology Analysis: current study set of 299 IDs ...\n",
      " 87%    259 of    299 study items found in association\n",
      "100%    299 of    299 study items found in population(28212)\n",
      "Calculating 4,180 uncorrected p-values using fisher_scipy_stats\n",
      "   4,180 GO terms are associated with 16,508 of 28,212 population items\n",
      "     455 GO terms are associated with    259 of    299 study items\n",
      "  METHOD fdr_bh:\n",
      "      24 GO terms found significant (< 0.05=alpha) ( 23 enriched +   1 purified): statsmodels fdr_bh\n",
      "     190 study items associated with significant GO IDs (enriched)\n",
      "       0 study items associated with significant GO IDs (purified)\n",
      "\n",
      "Run BP Gene Ontology Analysis: current study set of 294 IDs ...\n",
      " 89%    263 of    294 study items found in association\n",
      "100%    294 of    294 study items found in population(28212)\n",
      "Calculating 12,398 uncorrected p-values using fisher_scipy_stats\n",
      "  12,398 GO terms are associated with 17,126 of 28,212 population items\n",
      "   1,215 GO terms are associated with    263 of    294 study items\n",
      "  METHOD fdr_bh:\n",
      "      11 GO terms found significant (< 0.05=alpha) (  9 enriched +   2 purified): statsmodels fdr_bh\n",
      "      82 study items associated with significant GO IDs (enriched)\n",
      "       1 study items associated with significant GO IDs (purified)\n",
      "\n",
      "Run CC Gene Ontology Analysis: current study set of 294 IDs ...\n",
      " 95%    280 of    294 study items found in association\n",
      "100%    294 of    294 study items found in population(28212)\n",
      "Calculating 1,750 uncorrected p-values using fisher_scipy_stats\n",
      "   1,750 GO terms are associated with 18,355 of 28,212 population items\n",
      "     347 GO terms are associated with    280 of    294 study items\n",
      "  METHOD fdr_bh:\n",
      "      24 GO terms found significant (< 0.05=alpha) ( 23 enriched +   1 purified): statsmodels fdr_bh\n",
      "     272 study items associated with significant GO IDs (enriched)\n",
      "       2 study items associated with significant GO IDs (purified)\n",
      "\n",
      "Run MF Gene Ontology Analysis: current study set of 294 IDs ...\n",
      " 80%    234 of    294 study items found in association\n",
      "100%    294 of    294 study items found in population(28212)\n",
      "Calculating 4,180 uncorrected p-values using fisher_scipy_stats\n",
      "   4,180 GO terms are associated with 16,508 of 28,212 population items\n",
      "     409 GO terms are associated with    234 of    294 study items\n",
      "  METHOD fdr_bh:\n",
      "      13 GO terms found significant (< 0.05=alpha) ( 12 enriched +   1 purified): statsmodels fdr_bh\n",
      "     123 study items associated with significant GO IDs (enriched)\n",
      "       0 study items associated with significant GO IDs (purified)\n",
      "\n",
      "Run BP Gene Ontology Analysis: current study set of 228 IDs ...\n",
      " 91%    208 of    228 study items found in association\n",
      "100%    228 of    228 study items found in population(28212)\n",
      "Calculating 12,398 uncorrected p-values using fisher_scipy_stats\n",
      "  12,398 GO terms are associated with 17,126 of 28,212 population items\n",
      "   1,523 GO terms are associated with    208 of    228 study items\n",
      "  METHOD fdr_bh:\n",
      "      38 GO terms found significant (< 0.05=alpha) ( 37 enriched +   1 purified): statsmodels fdr_bh\n",
      "     118 study items associated with significant GO IDs (enriched)\n",
      "       0 study items associated with significant GO IDs (purified)\n",
      "\n",
      "Run CC Gene Ontology Analysis: current study set of 228 IDs ...\n",
      " 95%    216 of    228 study items found in association\n",
      "100%    228 of    228 study items found in population(28212)\n",
      "Calculating 1,750 uncorrected p-values using fisher_scipy_stats\n",
      "   1,750 GO terms are associated with 18,355 of 28,212 population items\n",
      "     327 GO terms are associated with    216 of    228 study items\n",
      "  METHOD fdr_bh:\n",
      "      54 GO terms found significant (< 0.05=alpha) ( 54 enriched +   0 purified): statsmodels fdr_bh\n",
      "     211 study items associated with significant GO IDs (enriched)\n",
      "       0 study items associated with significant GO IDs (purified)\n",
      "\n",
      "Run MF Gene Ontology Analysis: current study set of 228 IDs ...\n",
      " 89%    202 of    228 study items found in association\n",
      "100%    228 of    228 study items found in population(28212)\n",
      "Calculating 4,180 uncorrected p-values using fisher_scipy_stats\n",
      "   4,180 GO terms are associated with 16,508 of 28,212 population items\n",
      "     400 GO terms are associated with    202 of    228 study items\n",
      "  METHOD fdr_bh:\n",
      "      34 GO terms found significant (< 0.05=alpha) ( 33 enriched +   1 purified): statsmodels fdr_bh\n",
      "     173 study items associated with significant GO IDs (enriched)\n",
      "       0 study items associated with significant GO IDs (purified)\n",
      "\n",
      "Run BP Gene Ontology Analysis: current study set of 213 IDs ...\n",
      " 91%    193 of    213 study items found in association\n",
      "100%    213 of    213 study items found in population(28212)\n",
      "Calculating 12,398 uncorrected p-values using fisher_scipy_stats\n",
      "  12,398 GO terms are associated with 17,126 of 28,212 population items\n",
      "   1,070 GO terms are associated with    193 of    213 study items\n",
      "  METHOD fdr_bh:\n",
      "       5 GO terms found significant (< 0.05=alpha) (  5 enriched +   0 purified): statsmodels fdr_bh\n",
      "      50 study items associated with significant GO IDs (enriched)\n",
      "       0 study items associated with significant GO IDs (purified)\n",
      "\n",
      "Run CC Gene Ontology Analysis: current study set of 213 IDs ...\n",
      " 96%    205 of    213 study items found in association\n",
      "100%    213 of    213 study items found in population(28212)\n",
      "Calculating 1,750 uncorrected p-values using fisher_scipy_stats\n",
      "   1,750 GO terms are associated with 18,355 of 28,212 population items\n",
      "     244 GO terms are associated with    205 of    213 study items\n",
      "  METHOD fdr_bh:\n",
      "      19 GO terms found significant (< 0.05=alpha) ( 19 enriched +   0 purified): statsmodels fdr_bh\n",
      "     185 study items associated with significant GO IDs (enriched)\n",
      "       0 study items associated with significant GO IDs (purified)\n",
      "\n",
      "Run MF Gene Ontology Analysis: current study set of 213 IDs ...\n",
      " 84%    179 of    213 study items found in association\n",
      "100%    213 of    213 study items found in population(28212)\n",
      "Calculating 4,180 uncorrected p-values using fisher_scipy_stats\n",
      "   4,180 GO terms are associated with 16,508 of 28,212 population items\n",
      "     403 GO terms are associated with    179 of    213 study items\n",
      "  METHOD fdr_bh:\n",
      "      12 GO terms found significant (< 0.05=alpha) ( 12 enriched +   0 purified): statsmodels fdr_bh\n",
      "     103 study items associated with significant GO IDs (enriched)\n",
      "       0 study items associated with significant GO IDs (purified)\n",
      "\n",
      "Run BP Gene Ontology Analysis: current study set of 129 IDs ...\n",
      " 95%    122 of    129 study items found in association\n",
      "100%    129 of    129 study items found in population(28212)\n",
      "Calculating 12,398 uncorrected p-values using fisher_scipy_stats\n",
      "  12,398 GO terms are associated with 17,126 of 28,212 population items\n",
      "     475 GO terms are associated with    122 of    129 study items\n",
      "  METHOD fdr_bh:\n",
      "      74 GO terms found significant (< 0.05=alpha) ( 74 enriched +   0 purified): statsmodels fdr_bh\n",
      "     111 study items associated with significant GO IDs (enriched)\n",
      "       0 study items associated with significant GO IDs (purified)\n",
      "\n",
      "Run CC Gene Ontology Analysis: current study set of 129 IDs ...\n",
      " 98%    127 of    129 study items found in association\n",
      "100%    129 of    129 study items found in population(28212)\n",
      "Calculating 1,750 uncorrected p-values using fisher_scipy_stats\n",
      "   1,750 GO terms are associated with 18,355 of 28,212 population items\n",
      "     147 GO terms are associated with    127 of    129 study items\n",
      "  METHOD fdr_bh:\n",
      "      62 GO terms found significant (< 0.05=alpha) ( 57 enriched +   5 purified): statsmodels fdr_bh\n",
      "     126 study items associated with significant GO IDs (enriched)\n",
      "       8 study items associated with significant GO IDs (purified)\n",
      "\n",
      "Run MF Gene Ontology Analysis: current study set of 129 IDs ...\n",
      " 83%    107 of    129 study items found in association\n",
      "100%    129 of    129 study items found in population(28212)\n",
      "Calculating 4,180 uncorrected p-values using fisher_scipy_stats\n",
      "   4,180 GO terms are associated with 16,508 of 28,212 population items\n",
      "     146 GO terms are associated with    107 of    129 study items\n",
      "  METHOD fdr_bh:\n",
      "      19 GO terms found significant (< 0.05=alpha) ( 19 enriched +   0 purified): statsmodels fdr_bh\n",
      "      89 study items associated with significant GO IDs (enriched)\n",
      "       0 study items associated with significant GO IDs (purified)\n",
      "\n",
      "Run BP Gene Ontology Analysis: current study set of 125 IDs ...\n",
      " 90%    112 of    125 study items found in association\n",
      "100%    125 of    125 study items found in population(28212)\n",
      "Calculating 12,398 uncorrected p-values using fisher_scipy_stats\n",
      "  12,398 GO terms are associated with 17,126 of 28,212 population items\n",
      "   1,123 GO terms are associated with    112 of    125 study items\n",
      "  METHOD fdr_bh:\n",
      "       8 GO terms found significant (< 0.05=alpha) (  8 enriched +   0 purified): statsmodels fdr_bh\n",
      "      31 study items associated with significant GO IDs (enriched)\n",
      "       0 study items associated with significant GO IDs (purified)\n",
      "\n",
      "Run CC Gene Ontology Analysis: current study set of 125 IDs ...\n",
      " 96%    120 of    125 study items found in association\n",
      "100%    125 of    125 study items found in population(28212)\n",
      "Calculating 1,750 uncorrected p-values using fisher_scipy_stats\n",
      "   1,750 GO terms are associated with 18,355 of 28,212 population items\n",
      "     194 GO terms are associated with    120 of    125 study items\n",
      "  METHOD fdr_bh:\n",
      "      10 GO terms found significant (< 0.05=alpha) ( 10 enriched +   0 purified): statsmodels fdr_bh\n",
      "     114 study items associated with significant GO IDs (enriched)\n",
      "       0 study items associated with significant GO IDs (purified)\n",
      "\n",
      "Run MF Gene Ontology Analysis: current study set of 125 IDs ...\n",
      " 83%    104 of    125 study items found in association\n",
      "100%    125 of    125 study items found in population(28212)\n",
      "Calculating 4,180 uncorrected p-values using fisher_scipy_stats\n",
      "   4,180 GO terms are associated with 16,508 of 28,212 population items\n",
      "     290 GO terms are associated with    104 of    125 study items\n",
      "  METHOD fdr_bh:\n",
      "      10 GO terms found significant (< 0.05=alpha) ( 10 enriched +   0 purified): statsmodels fdr_bh\n",
      "      63 study items associated with significant GO IDs (enriched)\n",
      "       0 study items associated with significant GO IDs (purified)\n",
      "\n",
      "Run BP Gene Ontology Analysis: current study set of 89 IDs ...\n",
      " 99%     88 of     89 study items found in association\n",
      "100%     89 of     89 study items found in population(28212)\n",
      "Calculating 12,398 uncorrected p-values using fisher_scipy_stats\n",
      "  12,398 GO terms are associated with 17,126 of 28,212 population items\n",
      "     443 GO terms are associated with     88 of     89 study items\n",
      "  METHOD fdr_bh:\n",
      "      63 GO terms found significant (< 0.05=alpha) ( 63 enriched +   0 purified): statsmodels fdr_bh\n",
      "      77 study items associated with significant GO IDs (enriched)\n",
      "       0 study items associated with significant GO IDs (purified)\n",
      "\n",
      "Run CC Gene Ontology Analysis: current study set of 89 IDs ...\n",
      " 99%     88 of     89 study items found in association\n",
      "100%     89 of     89 study items found in population(28212)\n",
      "Calculating 1,750 uncorrected p-values using fisher_scipy_stats\n",
      "   1,750 GO terms are associated with 18,355 of 28,212 population items\n",
      "     121 GO terms are associated with     88 of     89 study items\n",
      "  METHOD fdr_bh:\n",
      "      33 GO terms found significant (< 0.05=alpha) ( 31 enriched +   2 purified): statsmodels fdr_bh\n",
      "      88 study items associated with significant GO IDs (enriched)\n",
      "       4 study items associated with significant GO IDs (purified)\n",
      "\n",
      "Run MF Gene Ontology Analysis: current study set of 89 IDs ...\n",
      " 91%     81 of     89 study items found in association\n",
      "100%     89 of     89 study items found in population(28212)\n",
      "Calculating 4,180 uncorrected p-values using fisher_scipy_stats\n",
      "   4,180 GO terms are associated with 16,508 of 28,212 population items\n",
      "     178 GO terms are associated with     81 of     89 study items\n",
      "  METHOD fdr_bh:\n",
      "      32 GO terms found significant (< 0.05=alpha) ( 32 enriched +   0 purified): statsmodels fdr_bh\n",
      "      77 study items associated with significant GO IDs (enriched)\n",
      "       0 study items associated with significant GO IDs (purified)\n",
      "\n",
      "Run BP Gene Ontology Analysis: current study set of 76 IDs ...\n",
      " 99%     75 of     76 study items found in association\n",
      "100%     76 of     76 study items found in population(28212)\n",
      "Calculating 12,398 uncorrected p-values using fisher_scipy_stats\n",
      "  12,398 GO terms are associated with 17,126 of 28,212 population items\n",
      "     238 GO terms are associated with     75 of     76 study items\n",
      "  METHOD fdr_bh:\n",
      "      13 GO terms found significant (< 0.05=alpha) ( 13 enriched +   0 purified): statsmodels fdr_bh\n",
      "      70 study items associated with significant GO IDs (enriched)\n",
      "       0 study items associated with significant GO IDs (purified)\n",
      "\n",
      "Run CC Gene Ontology Analysis: current study set of 76 IDs ...\n",
      "100%     76 of     76 study items found in association\n",
      "100%     76 of     76 study items found in population(28212)\n",
      "Calculating 1,750 uncorrected p-values using fisher_scipy_stats\n",
      "   1,750 GO terms are associated with 18,355 of 28,212 population items\n",
      "      85 GO terms are associated with     76 of     76 study items\n",
      "  METHOD fdr_bh:\n",
      "      19 GO terms found significant (< 0.05=alpha) ( 18 enriched +   1 purified): statsmodels fdr_bh\n",
      "      76 study items associated with significant GO IDs (enriched)\n",
      "       0 study items associated with significant GO IDs (purified)\n",
      "\n",
      "Run MF Gene Ontology Analysis: current study set of 76 IDs ...\n",
      " 99%     75 of     76 study items found in association\n",
      "100%     76 of     76 study items found in population(28212)\n",
      "Calculating 4,180 uncorrected p-values using fisher_scipy_stats\n",
      "   4,180 GO terms are associated with 16,508 of 28,212 population items\n",
      "     103 GO terms are associated with     75 of     76 study items\n",
      "  METHOD fdr_bh:\n",
      "      12 GO terms found significant (< 0.05=alpha) ( 12 enriched +   0 purified): statsmodels fdr_bh\n",
      "      69 study items associated with significant GO IDs (enriched)\n",
      "       0 study items associated with significant GO IDs (purified)\n",
      "\n",
      "Run BP Gene Ontology Analysis: current study set of 56 IDs ...\n",
      " 98%     55 of     56 study items found in association\n",
      "100%     56 of     56 study items found in population(28212)\n",
      "Calculating 12,398 uncorrected p-values using fisher_scipy_stats\n",
      "  12,398 GO terms are associated with 17,126 of 28,212 population items\n",
      "     362 GO terms are associated with     55 of     56 study items\n",
      "  METHOD fdr_bh:\n",
      "      51 GO terms found significant (< 0.05=alpha) ( 51 enriched +   0 purified): statsmodels fdr_bh\n",
      "      49 study items associated with significant GO IDs (enriched)\n",
      "       0 study items associated with significant GO IDs (purified)\n",
      "\n",
      "Run CC Gene Ontology Analysis: current study set of 56 IDs ...\n",
      "100%     56 of     56 study items found in association\n",
      "100%     56 of     56 study items found in population(28212)\n",
      "Calculating 1,750 uncorrected p-values using fisher_scipy_stats\n",
      "   1,750 GO terms are associated with 18,355 of 28,212 population items\n",
      "      72 GO terms are associated with     56 of     56 study items\n",
      "  METHOD fdr_bh:\n",
      "      23 GO terms found significant (< 0.05=alpha) ( 23 enriched +   0 purified): statsmodels fdr_bh\n",
      "      55 study items associated with significant GO IDs (enriched)\n",
      "       0 study items associated with significant GO IDs (purified)\n",
      "\n",
      "Run MF Gene Ontology Analysis: current study set of 56 IDs ...\n",
      " 95%     53 of     56 study items found in association\n",
      "100%     56 of     56 study items found in population(28212)\n",
      "Calculating 4,180 uncorrected p-values using fisher_scipy_stats\n",
      "   4,180 GO terms are associated with 16,508 of 28,212 population items\n",
      "     121 GO terms are associated with     53 of     56 study items\n",
      "  METHOD fdr_bh:\n",
      "      23 GO terms found significant (< 0.05=alpha) ( 23 enriched +   0 purified): statsmodels fdr_bh\n",
      "      43 study items associated with significant GO IDs (enriched)\n",
      "       0 study items associated with significant GO IDs (purified)\n",
      "\n",
      "Run BP Gene Ontology Analysis: current study set of 16 IDs ...\n",
      " 88%     14 of     16 study items found in association\n",
      "100%     16 of     16 study items found in population(28212)\n",
      "Calculating 12,398 uncorrected p-values using fisher_scipy_stats\n",
      "  12,398 GO terms are associated with 17,126 of 28,212 population items\n",
      "     225 GO terms are associated with     14 of     16 study items\n",
      "  METHOD fdr_bh:\n",
      "       0 GO terms found significant (< 0.05=alpha) (  0 enriched +   0 purified): statsmodels fdr_bh\n",
      "       0 study items associated with significant GO IDs (enriched)\n",
      "       0 study items associated with significant GO IDs (purified)\n",
      "\n",
      "Run CC Gene Ontology Analysis: current study set of 16 IDs ...\n",
      " 94%     15 of     16 study items found in association\n",
      "100%     16 of     16 study items found in population(28212)\n",
      "Calculating 1,750 uncorrected p-values using fisher_scipy_stats\n",
      "   1,750 GO terms are associated with 18,355 of 28,212 population items\n",
      "      55 GO terms are associated with     15 of     16 study items\n",
      "  METHOD fdr_bh:\n",
      "       1 GO terms found significant (< 0.05=alpha) (  1 enriched +   0 purified): statsmodels fdr_bh\n",
      "       3 study items associated with significant GO IDs (enriched)\n",
      "       0 study items associated with significant GO IDs (purified)\n",
      "\n",
      "Run MF Gene Ontology Analysis: current study set of 16 IDs ...\n",
      " 81%     13 of     16 study items found in association\n",
      "100%     16 of     16 study items found in population(28212)\n",
      "Calculating 4,180 uncorrected p-values using fisher_scipy_stats\n",
      "   4,180 GO terms are associated with 16,508 of 28,212 population items\n",
      "      81 GO terms are associated with     13 of     16 study items\n",
      "  METHOD fdr_bh:\n",
      "       0 GO terms found significant (< 0.05=alpha) (  0 enriched +   0 purified): statsmodels fdr_bh\n",
      "       0 study items associated with significant GO IDs (enriched)\n",
      "       0 study items associated with significant GO IDs (purified)\n"
     ]
    }
   ],
   "source": [
    "goea_gene_clusters = []\n",
    "for cluster in adata_genes.obs['louvain'].value_counts().index:\n",
    "    genes_in_cluster = adata_genes.obs.index[np.where(adata_genes.obs['louvain']==cluster)]\n",
    "    geneids_study = []\n",
    "    for gene_search in genes_in_cluster:\n",
    "        for GeneID, names in GeneID2Symbol_dict.items():\n",
    "            if gene_search in names:\n",
    "    #            print(GeneID)\n",
    "                geneids_study.append(GeneID)\n",
    "                break\n",
    "\n",
    "    goea_results_all = goeaobj.run_study(geneids_study)\n",
    "    goea_results_sig = [r for r in goea_results_all if r.p_fdr_bh < 0.05]\n",
    "    goea_gene_clusters.append((cluster, genes_in_cluster, geneids_study, goea_results_sig))"
   ]
  },
  {
   "cell_type": "code",
   "execution_count": 21,
   "metadata": {},
   "outputs": [
    {
     "data": {
      "text/plain": [
       "12"
      ]
     },
     "execution_count": 21,
     "metadata": {},
     "output_type": "execute_result"
    }
   ],
   "source": [
    "# Double check that there are 12 results, corresponding to 12 gene clusters\n",
    "len(goea_gene_clusters)"
   ]
  },
  {
   "cell_type": "markdown",
   "metadata": {},
   "source": [
    "#### Extracting results"
   ]
  },
  {
   "cell_type": "code",
   "execution_count": 22,
   "metadata": {},
   "outputs": [],
   "source": [
    "goea_DF_gene_clusters = []\n",
    "for cluster, _, _, goea_results_sig in goea_gene_clusters:\n",
    "\n",
    "    goID = []\n",
    "    goName = []\n",
    "    goNamespace = []\n",
    "    goEnrichment = []\n",
    "    goAdjP = []\n",
    "    study_count = []\n",
    "    study_n = []\n",
    "    pop_count = []\n",
    "    pop_n = []\n",
    "    for goea_result in goea_results_sig:\n",
    "        goID.append(goea_result.goterm.id)\n",
    "        goName.append(goea_result.goterm.name)\n",
    "        goNamespace.append(goea_result.goterm.namespace)\n",
    "        goEnrichment.append(goea_result.enrichment)\n",
    "        goAdjP.append(goea_result.p_fdr_bh)\n",
    "        study_count.append(goea_result.study_count)\n",
    "        study_n.append(goea_result.study_n)\n",
    "        pop_count.append(goea_result.pop_count)\n",
    "        pop_n.append(goea_result.pop_n)\n",
    "\n",
    "    goea_summary = pd.DataFrame(data={'goID': goID,\n",
    "                                     'goName': goName, \n",
    "                                     'goNamespace': goNamespace, \n",
    "                                     'goEnrichment': goEnrichment, \n",
    "                                     'goAdjP': goAdjP, \n",
    "                                     'study_count': study_count, \n",
    "                                     'study_n': study_n, \n",
    "                                     'pop_count': pop_count, \n",
    "                                     'pop_n': pop_n})\n",
    "\n",
    "    # goea_summary.sort_values(by='goAdjP', ascending=True, inplace=True)\n",
    "\n",
    "    # goea_summary = goea_summary[goea_summary['goEnrichment']=='e']\n",
    "\n",
    "    goea_summary_MF = goea_summary[goea_summary['goNamespace']=='molecular_function']\n",
    "    goea_summary_BP = goea_summary[goea_summary['goNamespace']=='biological_process']\n",
    "    goea_summary_CC = goea_summary[goea_summary['goNamespace']=='cellular_component']\n",
    "\n",
    "    goea_DF_gene_clusters.append((cluster, goea_summary_MF, goea_summary_BP, goea_summary_CC))"
   ]
  },
  {
   "cell_type": "code",
   "execution_count": 27,
   "metadata": {},
   "outputs": [],
   "source": [
    "int_out_dir = '/project/GCRB/Hon_lab/s418610/Projects/03.Invivo_neuronal_reprogramming/99.Manuscript/Data/intermediate/'"
   ]
  },
  {
   "cell_type": "code",
   "execution_count": 30,
   "metadata": {},
   "outputs": [],
   "source": [
    "for cluster, goea_summary_MF, goea_summary_BP, goea_summary_CC in goea_DF_gene_clusters:\n",
    "    goea_summary_MF.to_csv(int_out_dir + 'POv2_gene_cluster_'+cluster+'_GOEA_summary_MF.csv', index=False)\n",
    "    goea_summary_BP.to_csv(int_out_dir + 'POv2_gene_cluster_'+cluster+'_GOEA_summary_BP.csv', index=False)\n",
    "    goea_summary_CC.to_csv(int_out_dir + 'POv2_gene_cluster_'+cluster+'_GOEA_summary_CC.csv', index=False)"
   ]
  },
  {
   "cell_type": "markdown",
   "metadata": {},
   "source": [
    "##### Write and read data"
   ]
  },
  {
   "cell_type": "code",
   "execution_count": 4,
   "metadata": {},
   "outputs": [],
   "source": [
    "int_out_dir = '/project/GCRB/Hon_lab/s418610/Projects/03.Invivo_neuronal_reprogramming/99.Manuscript/Data/intermediate/'"
   ]
  },
  {
   "cell_type": "code",
   "execution_count": 31,
   "metadata": {},
   "outputs": [],
   "source": [
    "output_path = int_out_dir + 'POv2_goea_DF_gene_clusters'\n",
    "\n",
    "with open(output_path, 'wb') as output_file:\n",
    " \n",
    "    pickle.dump(goea_DF_gene_clusters, output_file)"
   ]
  },
  {
   "cell_type": "code",
   "execution_count": 32,
   "metadata": {},
   "outputs": [],
   "source": [
    "input_path = int_out_dir + 'POv2_goea_DF_gene_clusters'\n",
    "with open(input_path, 'rb') as input_file:\n",
    " \n",
    "    goea_DF_gene_clusters = pickle.load(input_file)"
   ]
  },
  {
   "cell_type": "code",
   "execution_count": 33,
   "metadata": {},
   "outputs": [],
   "source": [
    "assert len(goea_DF_gene_clusters)==12"
   ]
  },
  {
   "cell_type": "markdown",
   "metadata": {},
   "source": [
    "## 6. Plot top enriched GO terms\n",
    "One plot for each namespace. "
   ]
  },
  {
   "cell_type": "markdown",
   "metadata": {},
   "source": [
    "#### Understanding the output"
   ]
  },
  {
   "cell_type": "markdown",
   "metadata": {},
   "source": [
    "### Loop over all clusters"
   ]
  },
  {
   "cell_type": "code",
   "execution_count": 26,
   "metadata": {},
   "outputs": [
    {
     "name": "stdout",
     "output_type": "stream",
     "text": [
      "Current gene cluster under examination: Louvain 0\n",
      "288 GO terms are enriched in Louvain cluster 0\n",
      "52 MF terms are significantly enriched. \n",
      "138 BP terms are significantly enriched. \n",
      "96 CC terms are significantly enriched. \n",
      "lipid metabolic process\n",
      "cell adhesion\n",
      "cell differentiation\n",
      "positive regulation of cell population proliferation\n",
      "multicellular organism development\n",
      "positive regulation of gene expression\n",
      "glycogen metabolic process\n",
      "regulation of cell shape\n",
      "circadian rhythm\n",
      "intracellular signal transduction\n",
      "Current gene cluster under examination: Louvain 1\n",
      "157 GO terms are enriched in Louvain cluster 1\n",
      "25 MF terms are significantly enriched. \n",
      "51 BP terms are significantly enriched. \n",
      "75 CC terms are significantly enriched. \n",
      "cell cycle\n",
      "cell division\n",
      "mRNA processing\n",
      "RNA splicing\n",
      "DNA repair\n",
      "DNA replication\n",
      "chromosome segregation\n",
      "mRNA splicing, via spliceosome\n",
      "cellular response to DNA damage stimulus\n",
      "chromatin remodeling\n",
      "Current gene cluster under examination: Louvain 2\n",
      "148 GO terms are enriched in Louvain cluster 2\n",
      "23 MF terms are significantly enriched. \n",
      "39 BP terms are significantly enriched. \n",
      "81 CC terms are significantly enriched. \n",
      "mRNA splicing, via spliceosome\n",
      "RNA splicing\n",
      "mRNA processing\n",
      "translation\n",
      "protein folding\n",
      "proteasomal ubiquitin-independent protein catabolic process\n",
      "spliceosomal snRNP assembly\n",
      "positive regulation of establishment of protein localization to telomere\n",
      "proteasomal protein catabolic process\n",
      "translational initiation\n",
      "Current gene cluster under examination: Louvain 3\n",
      "48 GO terms are enriched in Louvain cluster 3\n",
      "12 MF terms are significantly enriched. \n",
      "9 BP terms are significantly enriched. \n",
      "23 CC terms are significantly enriched. \n",
      "translation\n",
      "mitochondrial translation\n",
      "oxidation-reduction process\n",
      "mitochondrial respiratory chain complex I assembly\n",
      "mitochondrial electron transport, NADH to ubiquinone\n",
      "protein transport\n",
      "protein import into mitochondrial matrix\n",
      "mitochondrial ATP synthesis coupled electron transport\n",
      "tricarboxylic acid cycle\n",
      "Current gene cluster under examination: Louvain 4\n",
      "126 GO terms are enriched in Louvain cluster 4\n",
      "33 MF terms are significantly enriched. \n",
      "37 BP terms are significantly enriched. \n",
      "54 CC terms are significantly enriched. \n",
      "nervous system development\n",
      "axonogenesis\n",
      "axon guidance\n",
      "multicellular organism development\n",
      "positive regulation of transcription by RNA polymerase II\n",
      "regulation of microtubule polymerization or depolymerization\n",
      "microtubule-based process\n",
      "cell differentiation\n",
      "microtubule cytoskeleton organization\n",
      "dendrite development\n",
      "Current gene cluster under examination: Louvain 5\n",
      "36 GO terms are enriched in Louvain cluster 5\n",
      "12 MF terms are significantly enriched. \n",
      "5 BP terms are significantly enriched. \n",
      "19 CC terms are significantly enriched. \n",
      "oxidation-reduction process\n",
      "fatty acid beta-oxidation\n",
      "fatty acid metabolic process\n",
      "protein folding\n",
      "negative regulation of apoptotic process\n",
      "Current gene cluster under examination: Louvain 6\n",
      "155 GO terms are enriched in Louvain cluster 6\n",
      "19 MF terms are significantly enriched. \n",
      "74 BP terms are significantly enriched. \n",
      "57 CC terms are significantly enriched. \n",
      "cell cycle\n",
      "cell division\n",
      "chromosome segregation\n",
      "mitotic cytokinesis\n",
      "mitotic sister chromatid segregation\n",
      "mitotic cell cycle\n",
      "microtubule-based movement\n",
      "mitotic metaphase plate congression\n",
      "mitotic spindle assembly checkpoint\n",
      "mitotic spindle organization\n",
      "Current gene cluster under examination: Louvain 7\n",
      "28 GO terms are enriched in Louvain cluster 7\n",
      "10 MF terms are significantly enriched. \n",
      "8 BP terms are significantly enriched. \n",
      "10 CC terms are significantly enriched. \n",
      "transcription by RNA polymerase II\n",
      "Wnt signaling pathway\n",
      "zymogen granule exocytosis\n",
      "esophagus smooth muscle contraction\n",
      "glomerular filtration\n",
      "positive regulation of gene expression\n",
      "liver development\n",
      "cellular response to calcium ion\n",
      "Current gene cluster under examination: Louvain 8\n",
      "128 GO terms are enriched in Louvain cluster 8\n",
      "32 MF terms are significantly enriched. \n",
      "63 BP terms are significantly enriched. \n",
      "31 CC terms are significantly enriched. \n",
      "DNA replication\n",
      "cell cycle\n",
      "cellular response to DNA damage stimulus\n",
      "DNA repair\n",
      "DNA replication initiation\n",
      "double-strand break repair via break-induced replication\n",
      "cell division\n",
      "double-strand break repair via homologous recombination\n",
      "pre-replicative complex assembly involved in nuclear cell cycle DNA replication\n",
      "DNA replication checkpoint\n",
      "Current gene cluster under examination: Louvain 9\n",
      "44 GO terms are enriched in Louvain cluster 9\n",
      "12 MF terms are significantly enriched. \n",
      "13 BP terms are significantly enriched. \n",
      "18 CC terms are significantly enriched. \n",
      "translation\n",
      "cytoplasmic translation\n",
      "ribosomal small subunit assembly\n",
      "rRNA processing\n",
      "ribosomal small subunit biogenesis\n",
      "ribosomal large subunit assembly\n",
      "ribosomal large subunit biogenesis\n",
      "translational elongation\n",
      "cellular response to interleukin-4\n",
      "maturation of SSU-rRNA from tricistronic rRNA transcript (SSU-rRNA, 5.8S rRNA, LSU-rRNA)\n",
      "Current gene cluster under examination: Louvain 10\n",
      "97 GO terms are enriched in Louvain cluster 10\n",
      "23 MF terms are significantly enriched. \n",
      "51 BP terms are significantly enriched. \n",
      "23 CC terms are significantly enriched. \n",
      "immune system process\n",
      "immune response\n",
      "cellular response to interferon-beta\n",
      "antigen processing and presentation\n",
      "positive regulation of T cell mediated cytotoxicity\n",
      "antigen processing and presentation of peptide antigen via MHC class I\n",
      "defense response to virus\n",
      "response to bacterium\n",
      "innate immune response\n",
      "antigen processing and presentation of endogenous peptide antigen via MHC class Ib\n",
      "Current gene cluster under examination: Louvain 11\n",
      "1 GO terms are enriched in Louvain cluster 11\n",
      "0 MF terms are significantly enriched. \n",
      "0 BP terms are significantly enriched. \n",
      "1 CC terms are significantly enriched. \n"
     ]
    },
    {
     "data": {
      "image/png": "[encoded data removed]",
      "text/plain": [
       "<Figure size 216x360 with 1 Axes>"
      ]
     },
     "metadata": {
      "needs_background": "light"
     },
     "output_type": "display_data"
    },
    {
     "data": {
      "image/png": "[encoded data removed]",
      "text/plain": [
       "<Figure size 216x360 with 1 Axes>"
      ]
     },
     "metadata": {
      "needs_background": "light"
     },
     "output_type": "display_data"
    },
    {
     "data": {
      "image/png": "[encoded data removed]",
      "text/plain": [
       "<Figure size 216x360 with 1 Axes>"
      ]
     },
     "metadata": {
      "needs_background": "light"
     },
     "output_type": "display_data"
    },
    {
     "data": {
      "image/png": "[encoded data removed]",
      "text/plain": [
       "<Figure size 216x360 with 1 Axes>"
      ]
     },
     "metadata": {
      "needs_background": "light"
     },
     "output_type": "display_data"
    },
    {
     "data": {
      "image/png": "[encoded data removed]",
      "text/plain": [
       "<Figure size 216x360 with 1 Axes>"
      ]
     },
     "metadata": {
      "needs_background": "light"
     },
     "output_type": "display_data"
    },
    {
     "data": {
      "image/png": "[encoded data removed]",
      "text/plain": [
       "<Figure size 216x360 with 1 Axes>"
      ]
     },
     "metadata": {
      "needs_background": "light"
     },
     "output_type": "display_data"
    },
    {
     "data": {
      "image/png": "[encoded data removed]",
      "text/plain": [
       "<Figure size 216x360 with 1 Axes>"
      ]
     },
     "metadata": {
      "needs_background": "light"
     },
     "output_type": "display_data"
    },
    {
     "data": {
      "image/png": "[encoded data removed]",
      "text/plain": [
       "<Figure size 216x360 with 1 Axes>"
      ]
     },
     "metadata": {
      "needs_background": "light"
     },
     "output_type": "display_data"
    },
    {
     "data": {
      "image/png": "[encoded data removed]",
      "text/plain": [
       "<Figure size 216x360 with 1 Axes>"
      ]
     },
     "metadata": {
      "needs_background": "light"
     },
     "output_type": "display_data"
    },
    {
     "data": {
      "image/png": "[encoded data removed]",
      "text/plain": [
       "<Figure size 216x360 with 1 Axes>"
      ]
     },
     "metadata": {
      "needs_background": "light"
     },
     "output_type": "display_data"
    },
    {
     "data": {
      "image/png": "[encoded data removed]",
      "text/plain": [
       "<Figure size 216x360 with 1 Axes>"
      ]
     },
     "metadata": {
      "needs_background": "light"
     },
     "output_type": "display_data"
    },
    {
     "data": {
      "image/png": "[encoded data removed]",
      "text/plain": [
       "<Figure size 216x360 with 1 Axes>"
      ]
     },
     "metadata": {
      "needs_background": "light"
     },
     "output_type": "display_data"
    }
   ],
   "source": [
    "# Figure 4E\n",
    "for cluster, _, _, goea_results_sig in goea_gene_clusters:\n",
    "    print('Current gene cluster under examination: Louvain', cluster)\n",
    "\n",
    "    print(len(goea_results_sig), 'GO terms are enriched in Louvain cluster', cluster)\n",
    "\n",
    "    goID = []\n",
    "    goName = []\n",
    "    goNamespace = []\n",
    "    goEnrichment = []\n",
    "    goAdjP = []\n",
    "    study_count = []\n",
    "    study_n = []\n",
    "    pop_count = []\n",
    "    pop_n = []\n",
    "    for goea_result in goea_results_sig:\n",
    "        goID.append(goea_result.goterm.id)\n",
    "        goName.append(goea_result.goterm.name)\n",
    "        goNamespace.append(goea_result.goterm.namespace)\n",
    "        goEnrichment.append(goea_result.enrichment)\n",
    "        goAdjP.append(goea_result.p_fdr_bh)\n",
    "        study_count.append(goea_result.study_count)\n",
    "        study_n.append(goea_result.study_n)\n",
    "        pop_count.append(goea_result.pop_count)\n",
    "        pop_n.append(goea_result.pop_n)\n",
    "\n",
    "    goea_summary = pd.DataFrame(data={'goID': goID,\n",
    "                                     'goName': goName, \n",
    "                                     'goNamespace': goNamespace, \n",
    "                                     'goEnrichment': goEnrichment, \n",
    "                                     'goAdjP': goAdjP, \n",
    "                                     'study_count': study_count, \n",
    "                                     'study_n': study_n, \n",
    "                                     'pop_count': pop_count, \n",
    "                                     'pop_n': pop_n})\n",
    "\n",
    "    goea_summary.sort_values(by='goAdjP', ascending=True, inplace=True)\n",
    "\n",
    "    goea_summary = goea_summary[goea_summary['goEnrichment']=='e']\n",
    "\n",
    "    goea_summary_MF = goea_summary[goea_summary['goNamespace']=='molecular_function']\n",
    "    goea_summary_BP = goea_summary[goea_summary['goNamespace']=='biological_process']\n",
    "    goea_summary_CC = goea_summary[goea_summary['goNamespace']=='cellular_component']\n",
    "\n",
    "    print(goea_summary_MF.shape[0], 'MF terms are significantly enriched. ')\n",
    "    print(goea_summary_BP.shape[0], 'BP terms are significantly enriched. ')\n",
    "    print(goea_summary_CC.shape[0], 'CC terms are significantly enriched. ')\n",
    "\n",
    "    #### Barplot\n",
    "\n",
    "    fig, ax = plt.subplots(nrows=1, ncols=1, figsize=(3, 5), sharex=True)\n",
    "    # plt.subplots_adjust(hspace=0.5)\n",
    "\n",
    "    # BP\n",
    "    y_pos = np.arange(min(10, goea_summary_BP.shape[0]))\n",
    "    y_lab = goea_summary_BP['goName'][:10]\n",
    "    data = -np.log10(goea_summary_BP['goAdjP'][:10])\n",
    "    colors = np.where(data > 20, 'tab:red', np.where(data > 10, 'tab:orange', 'tab:blue') )\n",
    "    \n",
    "    for lab in y_lab:\n",
    "        print(lab)\n",
    "    \n",
    "    ax.barh(y_pos, data, align='center', color=colors)\n",
    "    ax.set_yticks(y_pos)\n",
    "    ax.set_yticklabels(y_lab)\n",
    "    ax.invert_yaxis()  # labels read top-to-bottom\n",
    "    # axes[0].set_xlabel('- log10 adj. p-value')\n",
    "#     ax.set_title('Enriched GO biological process terms')\n",
    "\n",
    "    if len(data.tolist()) > 0:\n",
    "        maxtick = int(max(data.tolist())+5)\n",
    "    else:\n",
    "        maxtick = 5\n",
    "    ax.set_xticks(np.arange(0, maxtick, 5))\n",
    "    ax.set_xticklabels(np.arange(0, maxtick, 5))\n",
    "    \n",
    "#    plt.show()\n",
    "#     plt.savefig('/project/GCRB/Hon_lab/s418610/Projects/03.Invivo_neuronal_reprogramming/99.Manuscript/Figures_v2/Figure2/GO/cluster'+cluster+'_BP_barchart.pdf')"
   ]
  },
  {
   "cell_type": "code",
   "execution_count": null,
   "metadata": {},
   "outputs": [],
   "source": []
  }
 ],
 "metadata": {
  "kernelspec": {
   "display_name": "py37_res_diffxpy",
   "language": "python",
   "name": "py37_res_diffxpy"
  },
  "language_info": {
   "codemirror_mode": {
    "name": "ipython",
    "version": 3
   },
   "file_extension": ".py",
   "mimetype": "text/x-python",
   "name": "python",
   "nbconvert_exporter": "python",
   "pygments_lexer": "ipython3",
   "version": "3.7.3"
  }
 },
 "nbformat": 4,
 "nbformat_minor": 2
}
